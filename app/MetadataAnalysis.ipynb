{
 "cells": [
  {
   "cell_type": "markdown",
   "metadata": {},
   "source": [
    "# Purpose\n",
    "This notebook is for ad-hoc medata analysis. It is not intended to be run as part of the pipeline."
   ]
  },
  {
   "cell_type": "code",
   "execution_count": 16,
   "metadata": {},
   "outputs": [
    {
     "data": {
      "text/html": [
       "<div>\n",
       "<style scoped>\n",
       "    .dataframe tbody tr th:only-of-type {\n",
       "        vertical-align: middle;\n",
       "    }\n",
       "\n",
       "    .dataframe tbody tr th {\n",
       "        vertical-align: top;\n",
       "    }\n",
       "\n",
       "    .dataframe thead th {\n",
       "        text-align: right;\n",
       "    }\n",
       "</style>\n",
       "<table border=\"1\" class=\"dataframe\">\n",
       "  <thead>\n",
       "    <tr style=\"text-align: right;\">\n",
       "      <th></th>\n",
       "      <th>identifier</th>\n",
       "      <th>recordId</th>\n",
       "      <th>title</th>\n",
       "      <th>abstract</th>\n",
       "      <th>hierarchy_level</th>\n",
       "    </tr>\n",
       "  </thead>\n",
       "  <tbody>\n",
       "    <tr>\n",
       "      <th>0</th>\n",
       "      <td>f31435db833f4e689fcde021c1545975</td>\n",
       "      <td>0</td>\n",
       "      <td>WCRP CMIP6: Met Office Hadley Centre (MOHC) UKESM1-0-LL model output for the \"piClim-HC\" experiment</td>\n",
       "      <td>The World Climate Research Program (WCRP) Coupled Model Intercomparison Project, Phase 6 (CMIP6) data from the Met Office Hadley Centre (MOHC) UKESM1-0-LL model output for the \"pre-industrial climatological SSTs and forcing, but with 2014 halocarbon concentrations (including chemistry)\" (piClim-HC) experiment. These are available at the following frequencies: AERmon, AERmonZ, Amon, CFmon, Eday, EdayZ, Emon, EmonZ, Lmon, SIday, SImon and day. The runs included the ensemble member: r2i1p1f2.\\n\\nCMIP6 was a global climate model intercomparison project, coordinated by PCMDI (Program For Climate Model Diagnosis and Intercomparison) on behalf of the WCRP and provided input for the Intergovernmental Panel on Climate Change (IPCC) 6th Assessment Report (AR6).\\n\\nThe official CMIP6 Citation, and its associated DOI, is provided as an online resource linked to this record.</td>\n",
       "      <td>dataset</td>\n",
       "    </tr>\n",
       "    <tr>\n",
       "      <th>1</th>\n",
       "      <td>e36e407461bd52d0a758c77a888d0ef8</td>\n",
       "      <td>1</td>\n",
       "      <td>Hydrographic data profiles collected by a conductivity-temperature-depth (CTD) sensor package during RRS Challenger cruise CH16/79</td>\n",
       "      <td>The dataset comprises 40 hydrographic data profiles, collected by a conductivity-temperature-depth (CTD) sensor package, within the North East Atlantic Ocean area, incorporating a short section of the Ellett Line to the east of the Anton Dohrn Seamount, together with the Little Minch and North Minch sections. The data were collected during October and November 1979. A complete list of all data parameters are described by the SeaDataNet Parameter Discovery Vocabulary (PDV) keywords assigned in this metadata record. The data were collected by the Scottish Marine Biological Association.</td>\n",
       "      <td>dataset</td>\n",
       "    </tr>\n",
       "    <tr>\n",
       "      <th>2</th>\n",
       "      <td>47036285256244ccbf28b0a7fcdb4c1c</td>\n",
       "      <td>2</td>\n",
       "      <td>WCRP CMIP5: College of Global Change and Earth System Science (GCESS) BNU-ESM model output for the sstClim4xCO2 experiment</td>\n",
       "      <td>WCRP CMIP5: College of Global Change and Earth System Science (GCESS) BNU-ESM model output for the SST Climatology With 4XCO2 Forcing (sstClim4xCO2) experiment. These data cover the following realms: aerosol, atmos, land and landIce; at the following frequencies: day and mon. The runs included the ensemble member: r1i1p1.\\n\\nThe WCRP Coupled Model Intercomparison Project, Phase 5 (CMIP5), was a global climate model intercomparison project, coordinated by PCMDI (Program For Climate Model Diagnosis and Intercomparison) on behalf of the World Climate Research Program (WCRP) and provided input for the Intergovernmental Panel on Climate Change (IPCC) 5th Assessment Report (AR5).</td>\n",
       "      <td>dataset</td>\n",
       "    </tr>\n",
       "    <tr>\n",
       "      <th>3</th>\n",
       "      <td>63307cdaace55cb88632a7673a52ecbf</td>\n",
       "      <td>3</td>\n",
       "      <td>Hydrographic data profiles collected by a conductivity-temperature-depth (CTD) sensor package during RRS Discovery cruise D102_1</td>\n",
       "      <td>This dataset comprises hydrographic data profiles, collected by a conductivity-temperature-depth (CTD) sensor package, during May - June 1979. It incorporates CTD sections off the Somalian and Kenyan coasts. The data were collected by the Institute of Oceanographic Sciences Wormley Laboratory to look at the structure of the Somalian Current.</td>\n",
       "      <td>dataset</td>\n",
       "    </tr>\n",
       "    <tr>\n",
       "      <th>4</th>\n",
       "      <td>993fde9690764abf9b56658ce9895496</td>\n",
       "      <td>4</td>\n",
       "      <td>WCRP CMIP6: the MIROC team MIROC-ES2L model output for the \"esm-1pct-brch-750PgC\" experiment</td>\n",
       "      <td>The World Climate Research Program (WCRP) Coupled Model Intercomparison Project, Phase 6 (CMIP6) data from the the MIROC team MIROC-ES2L model output for the \"zero emissions simulation branched from 1% run after 750 PgC cumulative emission\" (esm-1pct-brch-750PgC) experiment. These are available at the following frequencies: Amon and Lmon. The runs included the ensemble member: r1i1p1f2.\\n\\nCMIP6 was a global climate model intercomparison project, coordinated by PCMDI (Program For Climate Model Diagnosis and Intercomparison) on behalf of the WCRP and provided input for the Intergovernmental Panel on Climate Change (IPCC) 6th Assessment Report (AR6).\\n\\nThe official CMIP6 Citation, and its associated DOI, is provided as an online resource linked to this record.\\n\\nThe the MIROC team team consisted of the following agencies: Atmosphere and Ocean Research Institute (AORI), Centre for Climate System Research - National Institute for Environmental Studies (CCSR-NIES) and Atmosphere and Ocean Research Institute (AORI).</td>\n",
       "      <td>dataset</td>\n",
       "    </tr>\n",
       "  </tbody>\n",
       "</table>\n",
       "</div>"
      ],
      "text/plain": [
       "                         identifier  recordId  \\\n",
       "0  f31435db833f4e689fcde021c1545975         0   \n",
       "1  e36e407461bd52d0a758c77a888d0ef8         1   \n",
       "2  47036285256244ccbf28b0a7fcdb4c1c         2   \n",
       "3  63307cdaace55cb88632a7673a52ecbf         3   \n",
       "4  993fde9690764abf9b56658ce9895496         4   \n",
       "\n",
       "                                                                                                                                title  \\\n",
       "0                                 WCRP CMIP6: Met Office Hadley Centre (MOHC) UKESM1-0-LL model output for the \"piClim-HC\" experiment   \n",
       "1  Hydrographic data profiles collected by a conductivity-temperature-depth (CTD) sensor package during RRS Challenger cruise CH16/79   \n",
       "2          WCRP CMIP5: College of Global Change and Earth System Science (GCESS) BNU-ESM model output for the sstClim4xCO2 experiment   \n",
       "3    Hydrographic data profiles collected by a conductivity-temperature-depth (CTD) sensor package during RRS Discovery cruise D102_1   \n",
       "4                                        WCRP CMIP6: the MIROC team MIROC-ES2L model output for the \"esm-1pct-brch-750PgC\" experiment   \n",
       "\n",
       "                                                                                                                                                                                                                                                                                                                                                                                                                                                                                                                                                                                                                                                                                                                                                                                                                                                                                                                                                                                                                                                              abstract  \\\n",
       "0                                                                                                                                                           The World Climate Research Program (WCRP) Coupled Model Intercomparison Project, Phase 6 (CMIP6) data from the Met Office Hadley Centre (MOHC) UKESM1-0-LL model output for the \"pre-industrial climatological SSTs and forcing, but with 2014 halocarbon concentrations (including chemistry)\" (piClim-HC) experiment. These are available at the following frequencies: AERmon, AERmonZ, Amon, CFmon, Eday, EdayZ, Emon, EmonZ, Lmon, SIday, SImon and day. The runs included the ensemble member: r2i1p1f2.\\n\\nCMIP6 was a global climate model intercomparison project, coordinated by PCMDI (Program For Climate Model Diagnosis and Intercomparison) on behalf of the WCRP and provided input for the Intergovernmental Panel on Climate Change (IPCC) 6th Assessment Report (AR6).\\n\\nThe official CMIP6 Citation, and its associated DOI, is provided as an online resource linked to this record.   \n",
       "1                                                                                                                                                                                                                                                                                                                                                                                                                                                       The dataset comprises 40 hydrographic data profiles, collected by a conductivity-temperature-depth (CTD) sensor package, within the North East Atlantic Ocean area, incorporating a short section of the Ellett Line to the east of the Anton Dohrn Seamount, together with the Little Minch and North Minch sections. The data were collected during October and November 1979. A complete list of all data parameters are described by the SeaDataNet Parameter Discovery Vocabulary (PDV) keywords assigned in this metadata record. The data were collected by the Scottish Marine Biological Association.   \n",
       "2                                                                                                                                                                                                                                                                                                                                                           WCRP CMIP5: College of Global Change and Earth System Science (GCESS) BNU-ESM model output for the SST Climatology With 4XCO2 Forcing (sstClim4xCO2) experiment. These data cover the following realms: aerosol, atmos, land and landIce; at the following frequencies: day and mon. The runs included the ensemble member: r1i1p1.\\n\\nThe WCRP Coupled Model Intercomparison Project, Phase 5 (CMIP5), was a global climate model intercomparison project, coordinated by PCMDI (Program For Climate Model Diagnosis and Intercomparison) on behalf of the World Climate Research Program (WCRP) and provided input for the Intergovernmental Panel on Climate Change (IPCC) 5th Assessment Report (AR5).   \n",
       "3                                                                                                                                                                                                                                                                                                                                                                                                                                                                                                                                                                                                                                                                                                              This dataset comprises hydrographic data profiles, collected by a conductivity-temperature-depth (CTD) sensor package, during May - June 1979. It incorporates CTD sections off the Somalian and Kenyan coasts. The data were collected by the Institute of Oceanographic Sciences Wormley Laboratory to look at the structure of the Somalian Current.   \n",
       "4  The World Climate Research Program (WCRP) Coupled Model Intercomparison Project, Phase 6 (CMIP6) data from the the MIROC team MIROC-ES2L model output for the \"zero emissions simulation branched from 1% run after 750 PgC cumulative emission\" (esm-1pct-brch-750PgC) experiment. These are available at the following frequencies: Amon and Lmon. The runs included the ensemble member: r1i1p1f2.\\n\\nCMIP6 was a global climate model intercomparison project, coordinated by PCMDI (Program For Climate Model Diagnosis and Intercomparison) on behalf of the WCRP and provided input for the Intergovernmental Panel on Climate Change (IPCC) 6th Assessment Report (AR6).\\n\\nThe official CMIP6 Citation, and its associated DOI, is provided as an online resource linked to this record.\\n\\nThe the MIROC team team consisted of the following agencies: Atmosphere and Ocean Research Institute (AORI), Centre for Climate System Research - National Institute for Environmental Studies (CCSR-NIES) and Atmosphere and Ocean Research Institute (AORI).   \n",
       "\n",
       "  hierarchy_level  \n",
       "0         dataset  \n",
       "1         dataset  \n",
       "2         dataset  \n",
       "3         dataset  \n",
       "4         dataset  "
      ]
     },
     "execution_count": 16,
     "metadata": {},
     "output_type": "execute_result"
    }
   ],
   "source": [
    "import pandas as pd\n",
    "pd.set_option('max_colwidth', None)\n",
    "df = pd.read_pickle(r\"metadata_dataframes\\2023-02-18-GMD-metadata.pkl\")\n",
    "df.head()\n"
   ]
  },
  {
   "cell_type": "code",
   "execution_count": 17,
   "metadata": {},
   "outputs": [
    {
     "data": {
      "text/plain": [
       "dataset                 14060\n",
       "nonGeographicDataset      805\n",
       "series                    698\n",
       "service                    71\n",
       "application                13\n",
       "model                       2\n",
       "Name: hierarchy_level, dtype: int64"
      ]
     },
     "execution_count": 17,
     "metadata": {},
     "output_type": "execute_result"
    }
   ],
   "source": [
    "df.hierarchy_level.value_counts()"
   ]
  },
  {
   "cell_type": "code",
   "execution_count": 18,
   "metadata": {},
   "outputs": [
    {
     "data": {
      "text/plain": [
       "<AxesSubplot: >"
      ]
     },
     "execution_count": 18,
     "metadata": {},
     "output_type": "execute_result"
    },
    {
     "data": {
      "image/png": "[encoded data removed]",
      "text/plain": [
       "<Figure size 640x480 with 1 Axes>"
      ]
     },
     "metadata": {},
     "output_type": "display_data"
    }
   ],
   "source": [
    "df.hierarchy_level.value_counts().plot(kind='bar')"
   ]
  },
  {
   "cell_type": "code",
   "execution_count": 19,
   "metadata": {},
   "outputs": [
    {
     "data": {
      "text/html": [
       "<div>\n",
       "<style scoped>\n",
       "    .dataframe tbody tr th:only-of-type {\n",
       "        vertical-align: middle;\n",
       "    }\n",
       "\n",
       "    .dataframe tbody tr th {\n",
       "        vertical-align: top;\n",
       "    }\n",
       "\n",
       "    .dataframe thead th {\n",
       "        text-align: right;\n",
       "    }\n",
       "</style>\n",
       "<table border=\"1\" class=\"dataframe\">\n",
       "  <thead>\n",
       "    <tr style=\"text-align: right;\">\n",
       "      <th></th>\n",
       "      <th>identifier</th>\n",
       "      <th>recordId</th>\n",
       "      <th>title</th>\n",
       "      <th>abstract</th>\n",
       "      <th>hierarchy_level</th>\n",
       "    </tr>\n",
       "  </thead>\n",
       "  <tbody>\n",
       "    <tr>\n",
       "      <th>4718</th>\n",
       "      <td>38c5ef12dad55a5c9a8926d8acb0fffe</td>\n",
       "      <td>1418</td>\n",
       "      <td>Joint Air-Sea Interaction (JASIN) 1978 Project Data Set</td>\n",
       "      <td>The Joint Air-Sea Interaction (JASIN) 78 Project Data Set comprises a variety of measurements including upper air and near surface meteorology, and physical oceanography. Meteorological data include air temperature, pressure, humidity and wind, while oceanographic data include temperature, salinity, currents, wave spectra and short-term wave statistics. The data were collected in the North Rockall Trough, an area of deep water (1000m - 2000m) several hundred kilometres off the west coast of Scotland. The experiment lasted for 2 months from mid-July to mid-September 1978 and comprised 2 intensive observational phases preceded by a preparatory test period. Data were collected using a variety of instrumentation, with meteorological data being provided by radiosondes, tethered balloons, and ship- and aircraft-mounted sensors. Hydrographic data were collected via shipboard deployment of conductivity-temperature-depth (CTD) sensor packages (both standard and yoyo profiles), towed thermistor chains, ship-mounted wave recorders and moored temperature and current meters. The JASIN  Project was designed to study the interaction of the atmospheric and oceanic boundary layers with the large scale motions of the sea and air. The multiplicity of processes sampled necessitated a large experiment and involved more than 50 teams of investigators from nine countries.  The data are held at the British Oceanographic Data Centre and many series are available via BODC's online data delivery portal.</td>\n",
       "      <td>dataset</td>\n",
       "    </tr>\n",
       "    <tr>\n",
       "      <th>6447</th>\n",
       "      <td>38c5ef12dad55a5c9a8926d8acb0fffe</td>\n",
       "      <td>15647</td>\n",
       "      <td>Joint Air-Sea Interaction (JASIN) 1978 Project Data Set</td>\n",
       "      <td>The Joint Air-Sea Interaction (JASIN) 78 Project Data Set comprises a variety of measurements including upper air and near surface meteorology, and physical oceanography. Meteorological data include air temperature, pressure, humidity and wind, while oceanographic data include temperature, salinity, currents, wave spectra and short-term wave statistics. The data were collected in the North Rockall Trough, an area of deep water (1000m - 2000m) several hundred kilometres off the west coast of Scotland. The experiment lasted for 2 months from mid-July to mid-September 1978 and comprised 2 intensive observational phases preceded by a preparatory test period. Data were collected using a variety of instrumentation, with meteorological data being provided by radiosondes, tethered balloons, and ship- and aircraft-mounted sensors. Hydrographic data were collected via shipboard deployment of conductivity-temperature-depth (CTD) sensor packages (both standard and yoyo profiles), towed thermistor chains, ship-mounted wave recorders and moored temperature and current meters. The JASIN  Project was designed to study the interaction of the atmospheric and oceanic boundary layers with the large scale motions of the sea and air. The multiplicity of processes sampled necessitated a large experiment and involved more than 50 teams of investigators from nine countries.  The data are held at the British Oceanographic Data Centre and many series are available via BODC's online data delivery portal.</td>\n",
       "      <td>dataset</td>\n",
       "    </tr>\n",
       "    <tr>\n",
       "      <th>6450</th>\n",
       "      <td>6f4c780e44cd55d3bf87176d82609dc9</td>\n",
       "      <td>15650</td>\n",
       "      <td>INlet Dynamics Initiative: Algarve (INDIA) Project Data Set - Inlet dynamics data collected in the Ria Formosa National Park. January - March 1999</td>\n",
       "      <td>The dataset comprises measurements of hydrographic, bathymetric, sedimentary and meteorological parameters. These include water currents, temperature, salinity and wave parameters; suspended and seabed sediment; coastal geomorphological characteristics; and atmospheric temperature, pressure, humidity, irradiance and wind velocities. The study area was centred on the tidal inlet within the Peninsula do Ancao, Ria Formosa National Park, Algarve, Portugal. Field measurements were collected in the offshore area, the surf zone, beach experiments, the inlet areas and the inlet mouth between January and March 1999. The study utilised moorings, sediment grabs, tidal predictions, radar systems, acoustic Doppler current profiler (ACDP) surveys, a jack-up barge, beach experiments, video tower images, aerial surveys, seabed photographs and field campaign images. INDIA aimed to gain a better understanding of the interactions between tides, waves, currents and sedimentary processes at work in the European coastal zone with a view to predicting change. INDIA was coordinated by the University of Liverpool, Department of Civil Engineering. Data have been provided and/or modelled by a number of organisations from countries including France, Poland, Portugal, Australia, Netherlands, USA and the UK. Data management support for the project was provided by the British Oceanographic Data Centre. All data collected as part of the project were lodged with BODC who had responsibility for assembling and fully documenting the data.</td>\n",
       "      <td>dataset</td>\n",
       "    </tr>\n",
       "    <tr>\n",
       "      <th>6678</th>\n",
       "      <td>6f4c780e44cd55d3bf87176d82609dc9</td>\n",
       "      <td>1827</td>\n",
       "      <td>INlet Dynamics Initiative: Algarve (INDIA) Project Data Set - Inlet dynamics data collected in the Ria Formosa National Park. January - March 1999</td>\n",
       "      <td>The dataset comprises measurements of hydrographic, bathymetric, sedimentary and meteorological parameters. These include water currents, temperature, salinity and wave parameters; suspended and seabed sediment; coastal geomorphological characteristics; and atmospheric temperature, pressure, humidity, irradiance and wind velocities. The study area was centred on the tidal inlet within the Peninsula do Ancao, Ria Formosa National Park, Algarve, Portugal. Field measurements were collected in the offshore area, the surf zone, beach experiments, the inlet areas and the inlet mouth between January and March 1999. The study utilised moorings, sediment grabs, tidal predictions, radar systems, acoustic Doppler current profiler (ACDP) surveys, a jack-up barge, beach experiments, video tower images, aerial surveys, seabed photographs and field campaign images. INDIA aimed to gain a better understanding of the interactions between tides, waves, currents and sedimentary processes at work in the European coastal zone with a view to predicting change. INDIA was coordinated by the University of Liverpool, Department of Civil Engineering. Data have been provided and/or modelled by a number of organisations from countries including France, Poland, Portugal, Australia, Netherlands, USA and the UK. Data management support for the project was provided by the British Oceanographic Data Centre. All data collected as part of the project were lodged with BODC who had responsibility for assembling and fully documenting the data.</td>\n",
       "      <td>dataset</td>\n",
       "    </tr>\n",
       "    <tr>\n",
       "      <th>6448</th>\n",
       "      <td>87360d1a-85d9-4a4e-b9ac-e315977a52d3</td>\n",
       "      <td>15648</td>\n",
       "      <td>Surface temperature, surface oxygen, water clarity, water chemistry and phytoplankton chlorophyll a data from Esthwaite Water, 1945 to 2013</td>\n",
       "      <td>This is a long-term monitoring dataset of surface temperature, surface oxygen, water clarity, water chemistry and phytoplankton chlorophyll a from weekly to fortnightly sampling at Esthwaite Water in Cumbria, England that began in 1945 for some variables. The data were initially collected by the Freshwater Biological Association but have been collected by the Centre for Ecology &amp; Hydrology (CEH) and its predecessor Institute of Freshwater Ecology since 1989. The data available to download comprise surface temperature (TEMP) in degree Celsius, surface oxygen saturation (OXYG) in % air-saturation, Secchi depth (SECC) in metres, alkalinity (ALKA) in µg per litre as CaCO3 and pH. Ammonium (NH4N), nitrate (NO3N), soluble reactive phosphate (PO4P), total phosphorus (TOTP), dissolved reactive silicon expressed as SiO2 (SIO2) and phytoplankton chlorophyll a (TOCA) are all given in µg per litre. Water samples are based on a sample integrated from 0 to 5 m. Measurements are made from a boat at a marked location (buoy) at the deepest part of the lake. When it was not possible to visit the buoy, samples were taken from the shore, thus water samples were not integrated on these occasions, marked as Flag 2. All data are from April 1945 until the end of 2013 Full details about this dataset can be found at https://doi.org/10.5285/87360d1a-85d9-4a4e-b9ac-e315977a52d3</td>\n",
       "      <td>dataset</td>\n",
       "    </tr>\n",
       "    <tr>\n",
       "      <th>14158</th>\n",
       "      <td>87360d1a-85d9-4a4e-b9ac-e315977a52d3</td>\n",
       "      <td>8607</td>\n",
       "      <td>Surface temperature, surface oxygen, water clarity, water chemistry and phytoplankton chlorophyll a data from Esthwaite Water, 1945 to 2013</td>\n",
       "      <td>This is a long-term monitoring dataset of surface temperature, surface oxygen, water clarity, water chemistry and phytoplankton chlorophyll a from weekly to fortnightly sampling at Esthwaite Water in Cumbria, England that began in 1945 for some variables. The data were initially collected by the Freshwater Biological Association but have been collected by the Centre for Ecology &amp; Hydrology (CEH) and its predecessor Institute of Freshwater Ecology since 1989. The data available to download comprise surface temperature (TEMP) in degree Celsius, surface oxygen saturation (OXYG) in % air-saturation, Secchi depth (SECC) in metres, alkalinity (ALKA) in µg per litre as CaCO3 and pH. Ammonium (NH4N), nitrate (NO3N), soluble reactive phosphate (PO4P), total phosphorus (TOTP), dissolved reactive silicon expressed as SiO2 (SIO2) and phytoplankton chlorophyll a (TOCA) are all given in µg per litre. Water samples are based on a sample integrated from 0 to 5 m. Measurements are made from a boat at a marked location (buoy) at the deepest part of the lake. When it was not possible to visit the buoy, samples were taken from the shore, thus water samples were not integrated on these occasions, marked as Flag 2. All data are from April 1945 until the end of 2013 Full details about this dataset can be found at https://doi.org/10.5285/87360d1a-85d9-4a4e-b9ac-e315977a52d3</td>\n",
       "      <td>dataset</td>\n",
       "    </tr>\n",
       "    <tr>\n",
       "      <th>6399</th>\n",
       "      <td>ea819b92-d389-193a-e044-002128a47908</td>\n",
       "      <td>15599</td>\n",
       "      <td>BGS GeoIndex - Offshore (cultural data) data theme (OGC WxS INSPIRE)</td>\n",
       "      <td>Data from the British Geological Survey's GeoIndex Offshore (cultural data) theme are made available for viewing here. GeoIndex is a website that allows users to search for information about BGS data collections covering the UK and other areas world wide. Access is free, the interface is easy to use, and it has been developed to enable users to check coverage of different types of data and find out some background information about the data. More detailed information can be obtained by further enquiry via the web site: www.bgs.ac.uk/geoindex.</td>\n",
       "      <td>service</td>\n",
       "    </tr>\n",
       "    <tr>\n",
       "      <th>8141</th>\n",
       "      <td>ea819b92-d389-193a-e044-002128a47908</td>\n",
       "      <td>390</td>\n",
       "      <td>BGS GeoIndex - Offshore (cultural data) data theme (OGC WxS INSPIRE)</td>\n",
       "      <td>Data from the British Geological Survey's GeoIndex Offshore (cultural data) theme are made available for viewing here. GeoIndex is a website that allows users to search for information about BGS data collections covering the UK and other areas world wide. Access is free, the interface is easy to use, and it has been developed to enable users to check coverage of different types of data and find out some background information about the data. More detailed information can be obtained by further enquiry via the web site: www.bgs.ac.uk/geoindex.</td>\n",
       "      <td>service</td>\n",
       "    </tr>\n",
       "    <tr>\n",
       "      <th>11887</th>\n",
       "      <td>None</td>\n",
       "      <td>6536</td>\n",
       "      <td>None</td>\n",
       "      <td>None</td>\n",
       "      <td>None</td>\n",
       "    </tr>\n",
       "    <tr>\n",
       "      <th>12896</th>\n",
       "      <td>None</td>\n",
       "      <td>7445</td>\n",
       "      <td>None</td>\n",
       "      <td>None</td>\n",
       "      <td>None</td>\n",
       "    </tr>\n",
       "  </tbody>\n",
       "</table>\n",
       "</div>"
      ],
      "text/plain": [
       "                                 identifier  recordId  \\\n",
       "4718       38c5ef12dad55a5c9a8926d8acb0fffe      1418   \n",
       "6447       38c5ef12dad55a5c9a8926d8acb0fffe     15647   \n",
       "6450       6f4c780e44cd55d3bf87176d82609dc9     15650   \n",
       "6678       6f4c780e44cd55d3bf87176d82609dc9      1827   \n",
       "6448   87360d1a-85d9-4a4e-b9ac-e315977a52d3     15648   \n",
       "14158  87360d1a-85d9-4a4e-b9ac-e315977a52d3      8607   \n",
       "6399   ea819b92-d389-193a-e044-002128a47908     15599   \n",
       "8141   ea819b92-d389-193a-e044-002128a47908       390   \n",
       "11887                                  None      6536   \n",
       "12896                                  None      7445   \n",
       "\n",
       "                                                                                                                                                    title  \\\n",
       "4718                                                                                              Joint Air-Sea Interaction (JASIN) 1978 Project Data Set   \n",
       "6447                                                                                              Joint Air-Sea Interaction (JASIN) 1978 Project Data Set   \n",
       "6450   INlet Dynamics Initiative: Algarve (INDIA) Project Data Set - Inlet dynamics data collected in the Ria Formosa National Park. January - March 1999   \n",
       "6678   INlet Dynamics Initiative: Algarve (INDIA) Project Data Set - Inlet dynamics data collected in the Ria Formosa National Park. January - March 1999   \n",
       "6448          Surface temperature, surface oxygen, water clarity, water chemistry and phytoplankton chlorophyll a data from Esthwaite Water, 1945 to 2013   \n",
       "14158         Surface temperature, surface oxygen, water clarity, water chemistry and phytoplankton chlorophyll a data from Esthwaite Water, 1945 to 2013   \n",
       "6399                                                                                 BGS GeoIndex - Offshore (cultural data) data theme (OGC WxS INSPIRE)   \n",
       "8141                                                                                 BGS GeoIndex - Offshore (cultural data) data theme (OGC WxS INSPIRE)   \n",
       "11887                                                                                                                                                None   \n",
       "12896                                                                                                                                                None   \n",
       "\n",
       "                                                                                                                                                                                                                                                                                                                                                                                                                                                                                                                                                                                                                                                                                                                                                                                                                                                                                                                                                                                                                                                                                                                                                                                                                                                                                                                                                                                                                                                                                                                                                                                        abstract  \\\n",
       "4718                               The Joint Air-Sea Interaction (JASIN) 78 Project Data Set comprises a variety of measurements including upper air and near surface meteorology, and physical oceanography. Meteorological data include air temperature, pressure, humidity and wind, while oceanographic data include temperature, salinity, currents, wave spectra and short-term wave statistics. The data were collected in the North Rockall Trough, an area of deep water (1000m - 2000m) several hundred kilometres off the west coast of Scotland. The experiment lasted for 2 months from mid-July to mid-September 1978 and comprised 2 intensive observational phases preceded by a preparatory test period. Data were collected using a variety of instrumentation, with meteorological data being provided by radiosondes, tethered balloons, and ship- and aircraft-mounted sensors. Hydrographic data were collected via shipboard deployment of conductivity-temperature-depth (CTD) sensor packages (both standard and yoyo profiles), towed thermistor chains, ship-mounted wave recorders and moored temperature and current meters. The JASIN  Project was designed to study the interaction of the atmospheric and oceanic boundary layers with the large scale motions of the sea and air. The multiplicity of processes sampled necessitated a large experiment and involved more than 50 teams of investigators from nine countries.  The data are held at the British Oceanographic Data Centre and many series are available via BODC's online data delivery portal.   \n",
       "6447                               The Joint Air-Sea Interaction (JASIN) 78 Project Data Set comprises a variety of measurements including upper air and near surface meteorology, and physical oceanography. Meteorological data include air temperature, pressure, humidity and wind, while oceanographic data include temperature, salinity, currents, wave spectra and short-term wave statistics. The data were collected in the North Rockall Trough, an area of deep water (1000m - 2000m) several hundred kilometres off the west coast of Scotland. The experiment lasted for 2 months from mid-July to mid-September 1978 and comprised 2 intensive observational phases preceded by a preparatory test period. Data were collected using a variety of instrumentation, with meteorological data being provided by radiosondes, tethered balloons, and ship- and aircraft-mounted sensors. Hydrographic data were collected via shipboard deployment of conductivity-temperature-depth (CTD) sensor packages (both standard and yoyo profiles), towed thermistor chains, ship-mounted wave recorders and moored temperature and current meters. The JASIN  Project was designed to study the interaction of the atmospheric and oceanic boundary layers with the large scale motions of the sea and air. The multiplicity of processes sampled necessitated a large experiment and involved more than 50 teams of investigators from nine countries.  The data are held at the British Oceanographic Data Centre and many series are available via BODC's online data delivery portal.   \n",
       "6450   The dataset comprises measurements of hydrographic, bathymetric, sedimentary and meteorological parameters. These include water currents, temperature, salinity and wave parameters; suspended and seabed sediment; coastal geomorphological characteristics; and atmospheric temperature, pressure, humidity, irradiance and wind velocities. The study area was centred on the tidal inlet within the Peninsula do Ancao, Ria Formosa National Park, Algarve, Portugal. Field measurements were collected in the offshore area, the surf zone, beach experiments, the inlet areas and the inlet mouth between January and March 1999. The study utilised moorings, sediment grabs, tidal predictions, radar systems, acoustic Doppler current profiler (ACDP) surveys, a jack-up barge, beach experiments, video tower images, aerial surveys, seabed photographs and field campaign images. INDIA aimed to gain a better understanding of the interactions between tides, waves, currents and sedimentary processes at work in the European coastal zone with a view to predicting change. INDIA was coordinated by the University of Liverpool, Department of Civil Engineering. Data have been provided and/or modelled by a number of organisations from countries including France, Poland, Portugal, Australia, Netherlands, USA and the UK. Data management support for the project was provided by the British Oceanographic Data Centre. All data collected as part of the project were lodged with BODC who had responsibility for assembling and fully documenting the data.   \n",
       "6678   The dataset comprises measurements of hydrographic, bathymetric, sedimentary and meteorological parameters. These include water currents, temperature, salinity and wave parameters; suspended and seabed sediment; coastal geomorphological characteristics; and atmospheric temperature, pressure, humidity, irradiance and wind velocities. The study area was centred on the tidal inlet within the Peninsula do Ancao, Ria Formosa National Park, Algarve, Portugal. Field measurements were collected in the offshore area, the surf zone, beach experiments, the inlet areas and the inlet mouth between January and March 1999. The study utilised moorings, sediment grabs, tidal predictions, radar systems, acoustic Doppler current profiler (ACDP) surveys, a jack-up barge, beach experiments, video tower images, aerial surveys, seabed photographs and field campaign images. INDIA aimed to gain a better understanding of the interactions between tides, waves, currents and sedimentary processes at work in the European coastal zone with a view to predicting change. INDIA was coordinated by the University of Liverpool, Department of Civil Engineering. Data have been provided and/or modelled by a number of organisations from countries including France, Poland, Portugal, Australia, Netherlands, USA and the UK. Data management support for the project was provided by the British Oceanographic Data Centre. All data collected as part of the project were lodged with BODC who had responsibility for assembling and fully documenting the data.   \n",
       "6448                                                                                                                                                                This is a long-term monitoring dataset of surface temperature, surface oxygen, water clarity, water chemistry and phytoplankton chlorophyll a from weekly to fortnightly sampling at Esthwaite Water in Cumbria, England that began in 1945 for some variables. The data were initially collected by the Freshwater Biological Association but have been collected by the Centre for Ecology & Hydrology (CEH) and its predecessor Institute of Freshwater Ecology since 1989. The data available to download comprise surface temperature (TEMP) in degree Celsius, surface oxygen saturation (OXYG) in % air-saturation, Secchi depth (SECC) in metres, alkalinity (ALKA) in µg per litre as CaCO3 and pH. Ammonium (NH4N), nitrate (NO3N), soluble reactive phosphate (PO4P), total phosphorus (TOTP), dissolved reactive silicon expressed as SiO2 (SIO2) and phytoplankton chlorophyll a (TOCA) are all given in µg per litre. Water samples are based on a sample integrated from 0 to 5 m. Measurements are made from a boat at a marked location (buoy) at the deepest part of the lake. When it was not possible to visit the buoy, samples were taken from the shore, thus water samples were not integrated on these occasions, marked as Flag 2. All data are from April 1945 until the end of 2013 Full details about this dataset can be found at https://doi.org/10.5285/87360d1a-85d9-4a4e-b9ac-e315977a52d3   \n",
       "14158                                                                                                                                                               This is a long-term monitoring dataset of surface temperature, surface oxygen, water clarity, water chemistry and phytoplankton chlorophyll a from weekly to fortnightly sampling at Esthwaite Water in Cumbria, England that began in 1945 for some variables. The data were initially collected by the Freshwater Biological Association but have been collected by the Centre for Ecology & Hydrology (CEH) and its predecessor Institute of Freshwater Ecology since 1989. The data available to download comprise surface temperature (TEMP) in degree Celsius, surface oxygen saturation (OXYG) in % air-saturation, Secchi depth (SECC) in metres, alkalinity (ALKA) in µg per litre as CaCO3 and pH. Ammonium (NH4N), nitrate (NO3N), soluble reactive phosphate (PO4P), total phosphorus (TOTP), dissolved reactive silicon expressed as SiO2 (SIO2) and phytoplankton chlorophyll a (TOCA) are all given in µg per litre. Water samples are based on a sample integrated from 0 to 5 m. Measurements are made from a boat at a marked location (buoy) at the deepest part of the lake. When it was not possible to visit the buoy, samples were taken from the shore, thus water samples were not integrated on these occasions, marked as Flag 2. All data are from April 1945 until the end of 2013 Full details about this dataset can be found at https://doi.org/10.5285/87360d1a-85d9-4a4e-b9ac-e315977a52d3   \n",
       "6399                                                                                                                                                                                                                                                                                                                                                                                                                                                                                                                                                                                                                                                                                                                                                                                                                                                                                                                                                                                                                        Data from the British Geological Survey's GeoIndex Offshore (cultural data) theme are made available for viewing here. GeoIndex is a website that allows users to search for information about BGS data collections covering the UK and other areas world wide. Access is free, the interface is easy to use, and it has been developed to enable users to check coverage of different types of data and find out some background information about the data. More detailed information can be obtained by further enquiry via the web site: www.bgs.ac.uk/geoindex.   \n",
       "8141                                                                                                                                                                                                                                                                                                                                                                                                                                                                                                                                                                                                                                                                                                                                                                                                                                                                                                                                                                                                                        Data from the British Geological Survey's GeoIndex Offshore (cultural data) theme are made available for viewing here. GeoIndex is a website that allows users to search for information about BGS data collections covering the UK and other areas world wide. Access is free, the interface is easy to use, and it has been developed to enable users to check coverage of different types of data and find out some background information about the data. More detailed information can be obtained by further enquiry via the web site: www.bgs.ac.uk/geoindex.   \n",
       "11887                                                                                                                                                                                                                                                                                                                                                                                                                                                                                                                                                                                                                                                                                                                                                                                                                                                                                                                                                                                                                                                                                                                                                                                                                                                                                                                                                                                                                                                                                                                                                                                       None   \n",
       "12896                                                                                                                                                                                                                                                                                                                                                                                                                                                                                                                                                                                                                                                                                                                                                                                                                                                                                                                                                                                                                                                                                                                                                                                                                                                                                                                                                                                                                                                                                                                                                                                       None   \n",
       "\n",
       "      hierarchy_level  \n",
       "4718          dataset  \n",
       "6447          dataset  \n",
       "6450          dataset  \n",
       "6678          dataset  \n",
       "6448          dataset  \n",
       "14158         dataset  \n",
       "6399          service  \n",
       "8141          service  \n",
       "11887            None  \n",
       "12896            None  "
      ]
     },
     "execution_count": 19,
     "metadata": {},
     "output_type": "execute_result"
    }
   ],
   "source": [
    "duplicated_id_df = df[df.duplicated(subset=['identifier'], keep=False)].sort_values(by='identifier')\n",
    "duplicated_id_df\n"
   ]
  },
  {
   "cell_type": "code",
   "execution_count": 20,
   "metadata": {},
   "outputs": [
    {
     "data": {
      "text/html": [
       "<div>\n",
       "<style scoped>\n",
       "    .dataframe tbody tr th:only-of-type {\n",
       "        vertical-align: middle;\n",
       "    }\n",
       "\n",
       "    .dataframe tbody tr th {\n",
       "        vertical-align: top;\n",
       "    }\n",
       "\n",
       "    .dataframe thead th {\n",
       "        text-align: right;\n",
       "    }\n",
       "</style>\n",
       "<table border=\"1\" class=\"dataframe\">\n",
       "  <thead>\n",
       "    <tr style=\"text-align: right;\">\n",
       "      <th></th>\n",
       "      <th>identifier</th>\n",
       "      <th>recordId</th>\n",
       "      <th>title</th>\n",
       "      <th>abstract</th>\n",
       "      <th>hierarchy_level</th>\n",
       "    </tr>\n",
       "  </thead>\n",
       "  <tbody>\n",
       "    <tr>\n",
       "      <th>11887</th>\n",
       "      <td>None</td>\n",
       "      <td>6536</td>\n",
       "      <td>None</td>\n",
       "      <td>None</td>\n",
       "      <td>None</td>\n",
       "    </tr>\n",
       "    <tr>\n",
       "      <th>12896</th>\n",
       "      <td>None</td>\n",
       "      <td>7445</td>\n",
       "      <td>None</td>\n",
       "      <td>None</td>\n",
       "      <td>None</td>\n",
       "    </tr>\n",
       "  </tbody>\n",
       "</table>\n",
       "</div>"
      ],
      "text/plain": [
       "      identifier  recordId title abstract hierarchy_level\n",
       "11887       None      6536  None     None            None\n",
       "12896       None      7445  None     None            None"
      ]
     },
     "execution_count": 20,
     "metadata": {},
     "output_type": "execute_result"
    }
   ],
   "source": [
    "df[df.title.isnull()]"
   ]
  },
  {
   "cell_type": "code",
   "execution_count": null,
   "metadata": {},
   "outputs": [],
   "source": [
    "# # my take on stringd distance\n",
    "# import numpy as np\n",
    "# from tqdm import tqdm\n",
    "# from leven import levenshtein   \n",
    "\n",
    "# df = df[df.title.notnull()]\n",
    "# titles = df.title.to_numpy()\n",
    "# n = len(titles)\n",
    "# mat = np.empty((n, n))\n",
    "# mat[:] = np.nan\n",
    "\n",
    "# for i in tqdm(range(n)):\n",
    "#     for j in range(i, n):\n",
    "#         if i == j:\n",
    "#             mat[i, j] = 0\n",
    "#             continue\n",
    "#         mat[j, i] = levenshtein(titles[i], titles[j])\n",
    "# mat"
   ]
  },
  {
   "cell_type": "code",
   "execution_count": null,
   "metadata": {},
   "outputs": [],
   "source": []
  }
 ],
 "metadata": {
  "kernelspec": {
   "display_name": "Python 3.10.9 ('nlp')",
   "language": "python",
   "name": "python3"
  },
  "language_info": {
   "codemirror_mode": {
    "name": "ipython",
    "version": 3
   },
   "file_extension": ".py",
   "mimetype": "text/x-python",
   "name": "python",
   "nbconvert_exporter": "python",
   "pygments_lexer": "ipython3",
   "version": "3.10.9"
  },
  "orig_nbformat": 4,
  "vscode": {
   "interpreter": {
    "hash": "672b3d776524de01152f7ca3201c55348b26a53f788f95adde4e59b592a8df7b"
   }
  }
 },
 "nbformat": 4,
 "nbformat_minor": 2
}
